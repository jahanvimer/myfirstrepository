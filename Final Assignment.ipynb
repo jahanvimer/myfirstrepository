{
  "metadata": {
    "language_info": {
      "codemirror_mode": {
        "name": "python",
        "version": 3
      },
      "file_extension": ".py",
      "mimetype": "text/x-python",
      "name": "python",
      "nbconvert_exporter": "python",
      "pygments_lexer": "ipython3",
      "version": "3.8"
    },
    "kernelspec": {
      "name": "python",
      "display_name": "Pyolite",
      "language": "python"
    }
  },
  "nbformat_minor": 4,
  "nbformat": 4,
  "cells": [
    {
      "cell_type": "markdown",
      "source": "# My Jupyter Notebook on IBM Watson Studio",
      "metadata": {}
    },
    {
      "cell_type": "markdown",
      "source": "<b>Jahanvi Mer</b>",
      "metadata": {}
    },
    {
      "cell_type": "markdown",
      "source": "My desired profession is Data Scienctist",
      "metadata": {}
    },
    {
      "cell_type": "markdown",
      "source": "*I am interested in data science beacuse, I have always been fascinated with data and I like finding solutions. So i think it will be a good profession for me and I think I can do well in it.*",
      "metadata": {}
    },
    {
      "cell_type": "markdown",
      "source": "### The code in the next cell is suppose to be a Math equation.",
      "metadata": {}
    },
    {
      "cell_type": "code",
      "source": "1+1",
      "metadata": {
        "trusted": true
      },
      "execution_count": 9,
      "outputs": [
        {
          "execution_count": 9,
          "output_type": "execute_result",
          "data": {
            "text/plain": "2"
          },
          "metadata": {}
        }
      ]
    },
    {
      "cell_type": "markdown",
      "source": "* India\n* Australia\n* United States of America \n* United Kingdom\n* Korea\n* Japan",
      "metadata": {}
    },
    {
      "cell_type": "markdown",
      "source": "**Country**|**Short Form**|**Full Form**\n:---:|:---:|:---:\nIndia|INR|Indian Rupee\nAustralia|AUD|Australian Dollar\nUSA|USD|Unites States Dollar\nUK|GBP|Great Britan Pound\nKorea|KRW|Korean Won\nJapan|JPY|Japanese Yen",
      "metadata": {}
    },
    {
      "cell_type": "markdown",
      "source": "`THE END`",
      "metadata": {}
    },
    {
      "cell_type": "markdown",
      "source": "***",
      "metadata": {}
    }
  ]
}